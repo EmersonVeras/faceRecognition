{
  "cells": [
    {
      "cell_type": "markdown",
      "metadata": {
        "id": "view-in-github",
        "colab_type": "text"
      },
      "source": [
        "<a href=\"https://colab.research.google.com/github/EmersonVeras/faceRecognition/blob/main/Face_recogonition.ipynb\" target=\"_parent\"><img src=\"https://colab.research.google.com/assets/colab-badge.svg\" alt=\"Open In Colab\"/></a>"
      ]
    },
    {
      "cell_type": "code",
      "execution_count": null,
      "metadata": {
        "id": "9AAvkibLlh3B"
      },
      "outputs": [],
      "source": [
        "from PIL import Image\n",
        "import cv2\n",
        "import numpy as np\n",
        "from google.colab.patches import cv2_imshow\n",
        "from google.colab import drive\n",
        "import os\n",
        "from skimage.color import rgb2gray\n",
        "import matplotlib.pyplot as plt\n",
        "from skimage import io\n",
        "from skimage import color\n",
        "import glob\n",
        "from tensorflow.keras.utils import to_categorical"
      ]
    },
    {
      "cell_type": "code",
      "execution_count": null,
      "metadata": {
        "colab": {
          "base_uri": "https://localhost:8080/"
        },
        "id": "Uv-lP4i3ItBv",
        "outputId": "31b03c14-8941-4610-95c6-fd800645566c"
      },
      "outputs": [
        {
          "output_type": "stream",
          "name": "stdout",
          "text": [
            "Drive already mounted at /content/drive; to attempt to forcibly remount, call drive.mount(\"/content/drive\", force_remount=True).\n"
          ]
        }
      ],
      "source": [
        "from google.colab import drive\n",
        "drive.mount('/content/drive')"
      ]
    },
    {
      "cell_type": "code",
      "execution_count": null,
      "metadata": {
        "id": "23mI7M5TnDY-"
      },
      "outputs": [],
      "source": [
        "path_train = \"/content/drive/MyDrive/computerVision/faces-classification/train\"\n",
        "path_test = \"/content/drive/MyDrive/computerVision/faces-classification/test\"\n",
        "new_path_train = \"/content/newImagesGrayTrain\"\n",
        "new_path_test = \"/content/newImagesGrayTest\""
      ]
    },
    {
      "cell_type": "markdown",
      "source": [
        "# Other functions"
      ],
      "metadata": {
        "id": "gv7bCGvfxOI4"
      }
    },
    {
      "cell_type": "markdown",
      "metadata": {
        "id": "YGMJi7tApYlv"
      },
      "source": [
        "## functions"
      ]
    },
    {
      "cell_type": "code",
      "execution_count": null,
      "metadata": {
        "id": "GwHCuVY4pc_w"
      },
      "outputs": [],
      "source": [
        "import cv2 as cv\n",
        "import numpy as np\n",
        "import argparse\n",
        "\n",
        "\"\"\"\n",
        " - Article: \n",
        " Empirical Comparisons of Several Preprocessing Methods for Illumination\n",
        "                    Insensitive Face Recognition\n",
        "\n",
        "# HE -> Histogram Equalization\n",
        "# HS -> Histogram Specification\n",
        "# LOG -> Logarithm Transform\n",
        "# GIC -> Gamma intensity -> https://pyimagesearch.com/2015/10/05/opencv-gamma-correction/\n",
        "# SQI -> Self-quotient image\n",
        "\n",
        "\"\"\"\n",
        "\n",
        "def transform_to_gray(img):\n",
        "    return cv.cvtColor(img, cv.COLOR_BGR2GRAY)\n",
        "\n",
        "def histogram_equalization(img):\n",
        "    image_bgr = img\n",
        "    image_yuv = cv.cvtColor(image_bgr, cv.COLOR_BGR2YUV)\n",
        "    image_yuv[:, :, 0] = cv.equalizeHist(image_yuv[:, :, 0])\n",
        "\n",
        "    image_bgr = cv.cvtColor(image_yuv, cv.COLOR_YUV2BGR)\n",
        "    return image_bgr   \n",
        "\n",
        "def logarithm_transform(img):\n",
        "    transform_to_log = 255/np.log(1 + np.max(img))\n",
        "    log_image = transform_to_log * (np.log(img + 1))\n",
        "    return np.array(log_image, dtype = np.uint8)\n",
        "    \n",
        "def adjust_gamma_intensity(img, gamma = 1.0):\n",
        "    invGamma = 1.0/ gamma\n",
        "    table = np.array([((i/ 255.0) ** invGamma) * 255.0\n",
        "                      for i in np.arange(0, 256)]).astype(\"uint8\")\n",
        "    return cv.LUT(img, table)\n",
        "\n",
        "def self_quotient_image():\n",
        "    pass\n",
        "\n",
        "def bilateral_filter(img):\n",
        "  return cv2.bilateralFilter(img, 10, 10, 50)\n",
        "\n",
        "def sharpen(img):\n",
        "    kernel_sharpening = np.array([[-1,-1,-1], \n",
        "                              [-1,10,-1], \n",
        "                              [-1,-1,-1]])\n",
        "    return cv.filter2D(img, -1, kernel_sharpening)\n"
      ]
    },
    {
      "cell_type": "markdown",
      "source": [
        "# Get inputs"
      ],
      "metadata": {
        "id": "rbgkaJlcxUxh"
      }
    },
    {
      "cell_type": "code",
      "execution_count": 1,
      "metadata": {
        "id": "wX-8zxpsdvp8"
      },
      "outputs": [],
      "source": [
        "def list_all_inputs():\n",
        "  base_dir = '/content/drive/...'\n",
        "  people_1_dir = glob.glob(os.path.join(base_dir + 'people_1/', '*'))\n",
        "  people_2_dir = glob.glob(os.path.join(base_dir + 'people_2/', '*'))\n",
        "  people_3_dir = glob.glob(os.path.join(base_dir + 'people_3/', '*'))\n",
        "  X_path = [people_1_dir, people_2_dir, people_3_dir]\n",
        "  return X_path, ['people_1', 'people_2', 'people_3']"
      ]
    },
    {
      "cell_type": "code",
      "execution_count": null,
      "metadata": {
        "id": "-u1pXBCNmrPH"
      },
      "outputs": [],
      "source": [
        "X_path, labels = list_all_inputs()"
      ]
    },
    {
      "cell_type": "code",
      "execution_count": null,
      "metadata": {
        "id": "JWkjkmn8fGgD"
      },
      "outputs": [],
      "source": [
        "def create_input_labels(bilat_filter=False, hist_equalization=False, sharp=False):  \n",
        "  X_path, labels = list_all_inputs()\n",
        "  print(\"\\nTotal # of inputs: {}\".format(sum(map(len, X_path))))\n",
        "  print(\"Labels: {}\".format(labels))\n",
        "\n",
        "  # Preprocessing\n",
        "  if bilat_filter:\n",
        "    print(\"Applying bilateral filter\")\n",
        "  if hist_equalization:\n",
        "    print(\"Applying histogram equalization\")\n",
        "  if sharp:\n",
        "    print(\"Applying sharpening\")\n",
        "  \n",
        "  X = []\n",
        "  y = []\n",
        "  for i, (folder, label) in enumerate(zip(X_path, labels)):\n",
        "    for f in folder:\n",
        "      img = np.array(cv2.resize(cv2.imread(f), (224,224), interpolation = cv2.INTER_AREA))\n",
        "\n",
        "      if bilat_filter:\n",
        "        img = bilateral_filter(img)\n",
        "      if hist_equalization:\n",
        "        img = histogram_equalization(img)\n",
        "\n",
        "      if sharp:\n",
        "        img = sharpen(img)\n",
        "      X.append(img)     \n",
        "      y.append(i)\n",
        "\n",
        "  X = np.array(X)\n",
        "  X = X / 255\n",
        "\n",
        "  y = to_categorical(y, 3)\n",
        "\n",
        "  return X, y"
      ]
    },
    {
      "cell_type": "code",
      "execution_count": null,
      "metadata": {
        "colab": {
          "base_uri": "https://localhost:8080/"
        },
        "id": "p9nAJU1SdWFX",
        "outputId": "5925194d-ae53-4679-e4c3-e9dff5dc800e"
      },
      "outputs": [
        {
          "output_type": "stream",
          "name": "stdout",
          "text": [
            "\n",
            "Total # of inputs: 135\n",
            "Labels: ['felipe', 'emerson', 'luan']\n",
            "Applying bilateral filter\n",
            "Applying histogram equalization\n",
            "Applying sharpening\n"
          ]
        }
      ],
      "source": [
        "X, y = create_input_labels(bilat_filter=True, hist_equalization=True, sharp=True)"
      ]
    },
    {
      "cell_type": "code",
      "execution_count": null,
      "metadata": {
        "colab": {
          "base_uri": "https://localhost:8080/"
        },
        "id": "6eZLGAq_ex2n",
        "outputId": "f4216cce-4895-4beb-a389-f66f27e3aa87"
      },
      "outputs": [
        {
          "output_type": "execute_result",
          "data": {
            "text/plain": [
              "numpy.ndarray"
            ]
          },
          "metadata": {},
          "execution_count": 145
        }
      ],
      "source": [
        "type(X)"
      ]
    },
    {
      "cell_type": "code",
      "execution_count": null,
      "metadata": {
        "colab": {
          "base_uri": "https://localhost:8080/"
        },
        "id": "NowGkVDJfBvt",
        "outputId": "672c783c-d64c-4825-c48c-593ae2e18192"
      },
      "outputs": [
        {
          "output_type": "execute_result",
          "data": {
            "text/plain": [
              "numpy.ndarray"
            ]
          },
          "metadata": {},
          "execution_count": 146
        }
      ],
      "source": [
        "type(y)"
      ]
    },
    {
      "cell_type": "code",
      "execution_count": null,
      "metadata": {
        "id": "PCB_wnpffsEb"
      },
      "outputs": [],
      "source": [
        "import warnings \n",
        "warnings.filterwarnings('always') \n",
        "warnings.filterwarnings('ignore')\n",
        "import numpy as np\n",
        "import pandas as pd\n",
        "import matplotlib.pyplot as plt\n",
        "%matplotlib inline  \n",
        "import seaborn as sns\n",
        "from sklearn.model_selection import train_test_split \n",
        "import keras\n",
        "from tensorflow.keras.preprocessing.image import ImageDataGenerator\n",
        "from tensorflow.keras.models import Model\n",
        "from tensorflow.keras.optimizers import Nadam\n",
        "from tensorflow.keras.utils import to_categorical\n",
        "from tensorflow.keras.layers import Dropout, Flatten, Input, Dense\n",
        "from tensorflow.keras.layers import Conv2D, MaxPooling2D, BatchNormalization\n",
        "import random\n",
        "import tensorflow as tf\n",
        "import cv2 as cv\n",
        "import os \n",
        "import glob"
      ]
    },
    {
      "cell_type": "code",
      "execution_count": null,
      "metadata": {
        "id": "87xSeRUa-dm7"
      },
      "outputs": [],
      "source": [
        "import keras\n",
        "from keras import backend as K\n",
        "\n",
        "def sensitivity(y_true, y_pred):\n",
        "    true_positives = K.sum(K.round(K.clip(y_true * y_pred, 0, 1)))\n",
        "    possible_positives = K.sum(K.round(K.clip(y_true, 0, 1)))\n",
        "    return true_positives / (possible_positives + K.epsilon())\n",
        "\n",
        "def specificity(y_true, y_pred):\n",
        "    true_negatives = K.sum(K.round(K.clip((1-y_true) * (1-y_pred), 0, 1)))\n",
        "    possible_negatives = K.sum(K.round(K.clip(1-y_true, 0, 1)))\n",
        "    return true_negatives / (possible_negatives + K.epsilon())"
      ]
    },
    {
      "cell_type": "code",
      "execution_count": null,
      "metadata": {
        "id": "IKiPsIV2rvsb"
      },
      "outputs": [],
      "source": [
        "X_train, X_val, y_train, y_val = train_test_split(X, y, test_size = 0.2, random_state=42)"
      ]
    },
    {
      "cell_type": "code",
      "execution_count": null,
      "metadata": {
        "id": "jGB2oAwzri1e"
      },
      "outputs": [],
      "source": [
        "def create_model():\n",
        "  inp = Input((224,224,3))\n",
        "  conv1 = Conv2D(64, (5,5), padding='valid', activation= 'relu')(inp)\n",
        "  conv1 = MaxPooling2D(pool_size=(2,2))(conv1)\n",
        "  conv1 = BatchNormalization()(conv1)\n",
        "  conv2 = Conv2D(96, (4,4), padding='valid', activation= 'relu')(conv1)\n",
        "  conv2 = MaxPooling2D(pool_size=(2,2))(conv2)\n",
        "  conv2 = BatchNormalization()(conv2)\n",
        "  flat = Flatten()(conv2)\n",
        "  dense1 = Dense(256, activation= 'relu')(flat)\n",
        "  dense1 = Dropout(0.5)(dense1)\n",
        "  dense2 = Dense(64, activation= 'relu')(dense1)\n",
        "  dense2 = Dropout(0.1)(dense2)\n",
        "  out = Dense(3, activation = 'softmax')(dense2)\n",
        "  model = Model(inp, out)\n",
        "\n",
        "  return model\n"
      ]
    },
    {
      "cell_type": "markdown",
      "metadata": {
        "id": "yT1n0WF9Kb9S"
      },
      "source": [
        "# Without Filters"
      ]
    },
    {
      "cell_type": "code",
      "execution_count": null,
      "metadata": {
        "id": "K6RLO-te_Uff"
      },
      "outputs": [],
      "source": [
        "def train_model(model, id, X_train, X_val, y_train, y_val):\n",
        "  filepath = \"output/\" + id + '_TF-CNN.{epoch:02d}-{loss:.2f}-{accuracy:.2f}-{val_loss:.2f}-{val_accuracy:.2f}.hdf5'\n",
        "  lr_red = keras.callbacks.ReduceLROnPlateau(monitor='accuracy', \n",
        "    patience=3, verbose=1, factor=0.5, min_lr=0.000001)\n",
        "  chkpoint = keras.callbacks.ModelCheckpoint(filepath, \n",
        "    monitor='val_accuracy', verbose=0, save_best_only=True, \n",
        "    save_weights_only=False, mode='auto', period=1)\n",
        "  \n",
        "  history_filename = 'output/' + id + '_log.csv'\n",
        "  history_cb = tf.keras.callbacks.CSVLogger(history_filename, separator=\",\", append=False)\n",
        "  model_metrics=['accuracy',                  \n",
        "                  tf.keras.metrics.Precision(),                  \n",
        "                  tf.keras.metrics.Recall(),\n",
        "                  sensitivity,\n",
        "                  specificity]\n",
        "  model.compile(optimizer = Nadam(0.0001) , loss = 'categorical_crossentropy', \n",
        "    metrics=model_metrics)\n",
        "\n",
        "  history = model.fit(X_train, y_train, batch_size = 1, epochs = 30, initial_epoch = 0, \n",
        "    validation_data = (X_val, y_val), callbacks=[lr_red, chkpoint, history_cb])\n",
        " \n",
        "  prediction = model.predict(X_val)\n",
        "\n",
        "  return prediction\n"
      ]
    },
    {
      "cell_type": "code",
      "execution_count": null,
      "metadata": {
        "id": "QDghDK-7_WQU",
        "colab": {
          "base_uri": "https://localhost:8080/"
        },
        "outputId": "dbe5db9e-2a34-4444-cf10-d31f3fd3cae8"
      },
      "outputs": [
        {
          "output_type": "stream",
          "name": "stdout",
          "text": [
            "\n",
            "Total # of inputs: 135\n",
            "Labels: ['felipe', 'emerson', 'luan']\n",
            "Model: \"model_5\"\n",
            "_________________________________________________________________\n",
            " Layer (type)                Output Shape              Param #   \n",
            "=================================================================\n",
            " input_6 (InputLayer)        [(None, 224, 224, 3)]     0         \n",
            "                                                                 \n",
            " conv2d_15 (Conv2D)          (None, 220, 220, 64)      4864      \n",
            "                                                                 \n",
            " max_pooling2d_15 (MaxPoolin  (None, 110, 110, 64)     0         \n",
            " g2D)                                                            \n",
            "                                                                 \n",
            " batch_normalization_15 (Bat  (None, 110, 110, 64)     256       \n",
            " chNormalization)                                                \n",
            "                                                                 \n",
            " conv2d_16 (Conv2D)          (None, 107, 107, 96)      98400     \n",
            "                                                                 \n",
            " max_pooling2d_16 (MaxPoolin  (None, 53, 53, 96)       0         \n",
            " g2D)                                                            \n",
            "                                                                 \n",
            " batch_normalization_16 (Bat  (None, 53, 53, 96)       384       \n",
            " chNormalization)                                                \n",
            "                                                                 \n",
            " flatten_5 (Flatten)         (None, 269664)            0         \n",
            "                                                                 \n",
            " dense_15 (Dense)            (None, 256)               69034240  \n",
            "                                                                 \n",
            " dropout_10 (Dropout)        (None, 256)               0         \n",
            "                                                                 \n",
            " dense_16 (Dense)            (None, 64)                16448     \n",
            "                                                                 \n",
            " dropout_11 (Dropout)        (None, 64)                0         \n",
            "                                                                 \n",
            " dense_17 (Dense)            (None, 3)                 195       \n",
            "                                                                 \n",
            "=================================================================\n",
            "Total params: 69,154,787\n",
            "Trainable params: 69,154,467\n",
            "Non-trainable params: 320\n",
            "_________________________________________________________________\n",
            "WARNING:tensorflow:`period` argument is deprecated. Please use `save_freq` to specify the frequency in number of batches seen.\n"
          ]
        },
        {
          "output_type": "stream",
          "name": "stderr",
          "text": [
            "WARNING:tensorflow:`period` argument is deprecated. Please use `save_freq` to specify the frequency in number of batches seen.\n"
          ]
        },
        {
          "output_type": "stream",
          "name": "stdout",
          "text": [
            "Epoch 1/30\n",
            "108/108 [==============================] - 12s 97ms/step - loss: 4.9820 - accuracy: 0.6852 - precision_5: 0.6852 - recall_5: 0.6852 - sensitivity: 0.6852 - specificity: 0.8426 - val_loss: 3.0818 - val_accuracy: 0.2593 - val_precision_5: 0.2593 - val_recall_5: 0.2593 - val_sensitivity: 0.2593 - val_specificity: 0.6296 - lr: 1.0000e-04\n",
            "Epoch 2/30\n",
            "108/108 [==============================] - 7s 64ms/step - loss: 2.2277 - accuracy: 0.8981 - precision_5: 0.8981 - recall_5: 0.8981 - sensitivity: 0.8981 - specificity: 0.9491 - val_loss: 12.9236 - val_accuracy: 0.2593 - val_precision_5: 0.2593 - val_recall_5: 0.2593 - val_sensitivity: 0.2593 - val_specificity: 0.6296 - lr: 1.0000e-04\n",
            "Epoch 3/30\n",
            "108/108 [==============================] - 7s 63ms/step - loss: 0.1067 - accuracy: 0.9722 - precision_5: 0.9722 - recall_5: 0.9722 - sensitivity: 0.9722 - specificity: 0.9861 - val_loss: 15.0353 - val_accuracy: 0.2593 - val_precision_5: 0.2593 - val_recall_5: 0.2593 - val_sensitivity: 0.2593 - val_specificity: 0.6296 - lr: 1.0000e-04\n",
            "Epoch 4/30\n",
            "108/108 [==============================] - 10s 96ms/step - loss: 3.8878 - accuracy: 0.8796 - precision_5: 0.8796 - recall_5: 0.8796 - sensitivity: 0.8796 - specificity: 0.9398 - val_loss: 1.3614 - val_accuracy: 0.9630 - val_precision_5: 0.9630 - val_recall_5: 0.9630 - val_sensitivity: 0.9630 - val_specificity: 0.9815 - lr: 1.0000e-04\n",
            "Epoch 5/30\n",
            "108/108 [==============================] - 10s 96ms/step - loss: 1.3623 - accuracy: 0.9259 - precision_5: 0.9259 - recall_5: 0.9259 - sensitivity: 0.9259 - specificity: 0.9630 - val_loss: 3.6416e-05 - val_accuracy: 1.0000 - val_precision_5: 1.0000 - val_recall_5: 1.0000 - val_sensitivity: 1.0000 - val_specificity: 1.0000 - lr: 1.0000e-04\n",
            "Epoch 6/30\n",
            "108/108 [==============================] - ETA: 0s - loss: 0.9777 - accuracy: 0.9722 - precision_5: 0.9722 - recall_5: 0.9722 - sensitivity: 0.9722 - specificity: 0.9861\n",
            "Epoch 6: ReduceLROnPlateau reducing learning rate to 4.999999873689376e-05.\n",
            "108/108 [==============================] - 7s 64ms/step - loss: 0.9777 - accuracy: 0.9722 - precision_5: 0.9722 - recall_5: 0.9722 - sensitivity: 0.9722 - specificity: 0.9861 - val_loss: 1.3178 - val_accuracy: 0.9630 - val_precision_5: 0.9630 - val_recall_5: 0.9630 - val_sensitivity: 0.9630 - val_specificity: 0.9815 - lr: 1.0000e-04\n",
            "Epoch 7/30\n",
            "108/108 [==============================] - 7s 65ms/step - loss: 0.1119 - accuracy: 0.9815 - precision_5: 0.9815 - recall_5: 0.9815 - sensitivity: 0.9815 - specificity: 0.9907 - val_loss: 0.3820 - val_accuracy: 0.9630 - val_precision_5: 0.9630 - val_recall_5: 0.9630 - val_sensitivity: 0.9630 - val_specificity: 0.9815 - lr: 5.0000e-05\n",
            "Epoch 8/30\n",
            "108/108 [==============================] - 7s 66ms/step - loss: 0.1722 - accuracy: 0.9815 - precision_5: 0.9815 - recall_5: 0.9815 - sensitivity: 0.9815 - specificity: 0.9907 - val_loss: 3.2974 - val_accuracy: 0.9630 - val_precision_5: 0.9630 - val_recall_5: 0.9630 - val_sensitivity: 0.9630 - val_specificity: 0.9815 - lr: 5.0000e-05\n",
            "Epoch 9/30\n",
            "108/108 [==============================] - 7s 67ms/step - loss: 0.5544 - accuracy: 0.9815 - precision_5: 0.9815 - recall_5: 0.9815 - sensitivity: 0.9815 - specificity: 0.9907 - val_loss: 5.0641 - val_accuracy: 0.8889 - val_precision_5: 0.8889 - val_recall_5: 0.8889 - val_sensitivity: 0.8889 - val_specificity: 0.9444 - lr: 5.0000e-05\n",
            "Epoch 10/30\n",
            "108/108 [==============================] - ETA: 0s - loss: 0.2551 - accuracy: 0.9815 - precision_5: 0.9815 - recall_5: 0.9815 - sensitivity: 0.9815 - specificity: 0.9907\n",
            "Epoch 10: ReduceLROnPlateau reducing learning rate to 2.499999936844688e-05.\n",
            "108/108 [==============================] - 7s 67ms/step - loss: 0.2551 - accuracy: 0.9815 - precision_5: 0.9815 - recall_5: 0.9815 - sensitivity: 0.9815 - specificity: 0.9907 - val_loss: 9.1479e-05 - val_accuracy: 1.0000 - val_precision_5: 1.0000 - val_recall_5: 1.0000 - val_sensitivity: 1.0000 - val_specificity: 1.0000 - lr: 5.0000e-05\n",
            "Epoch 11/30\n",
            "108/108 [==============================] - 7s 66ms/step - loss: 0.0499 - accuracy: 0.9907 - precision_5: 0.9907 - recall_5: 0.9907 - sensitivity: 0.9907 - specificity: 0.9954 - val_loss: 1.3167 - val_accuracy: 0.9630 - val_precision_5: 0.9630 - val_recall_5: 0.9630 - val_sensitivity: 0.9630 - val_specificity: 0.9815 - lr: 2.5000e-05\n",
            "Epoch 12/30\n",
            "108/108 [==============================] - 7s 65ms/step - loss: 0.1392 - accuracy: 0.9907 - precision_5: 0.9907 - recall_5: 0.9907 - sensitivity: 0.9907 - specificity: 0.9954 - val_loss: 1.2278 - val_accuracy: 0.9630 - val_precision_5: 0.9630 - val_recall_5: 0.9630 - val_sensitivity: 0.9630 - val_specificity: 0.9815 - lr: 2.5000e-05\n",
            "Epoch 13/30\n",
            "108/108 [==============================] - 7s 65ms/step - loss: 0.0806 - accuracy: 0.9907 - precision_5: 0.9907 - recall_5: 0.9907 - sensitivity: 0.9907 - specificity: 0.9954 - val_loss: 2.0893 - val_accuracy: 0.9630 - val_precision_5: 0.9630 - val_recall_5: 0.9630 - val_sensitivity: 0.9630 - val_specificity: 0.9815 - lr: 2.5000e-05\n",
            "Epoch 14/30\n",
            "108/108 [==============================] - ETA: 0s - loss: 0.3402 - accuracy: 0.9907 - precision_5: 0.9907 - recall_5: 0.9907 - sensitivity: 0.9907 - specificity: 0.9954\n",
            "Epoch 14: ReduceLROnPlateau reducing learning rate to 1.249999968422344e-05.\n",
            "108/108 [==============================] - 7s 65ms/step - loss: 0.3402 - accuracy: 0.9907 - precision_5: 0.9907 - recall_5: 0.9907 - sensitivity: 0.9907 - specificity: 0.9954 - val_loss: 0.5514 - val_accuracy: 0.9630 - val_precision_5: 0.9630 - val_recall_5: 0.9630 - val_sensitivity: 0.9630 - val_specificity: 0.9815 - lr: 2.5000e-05\n",
            "Epoch 15/30\n",
            "108/108 [==============================] - 7s 64ms/step - loss: 1.9016e-04 - accuracy: 1.0000 - precision_5: 1.0000 - recall_5: 1.0000 - sensitivity: 1.0000 - specificity: 1.0000 - val_loss: 0.3571 - val_accuracy: 0.9630 - val_precision_5: 0.9630 - val_recall_5: 0.9630 - val_sensitivity: 0.9630 - val_specificity: 0.9815 - lr: 1.2500e-05\n",
            "Epoch 16/30\n",
            "108/108 [==============================] - 7s 66ms/step - loss: 0.0892 - accuracy: 0.9907 - precision_5: 0.9907 - recall_5: 0.9907 - sensitivity: 0.9907 - specificity: 0.9954 - val_loss: 0.0114 - val_accuracy: 1.0000 - val_precision_5: 1.0000 - val_recall_5: 1.0000 - val_sensitivity: 1.0000 - val_specificity: 1.0000 - lr: 1.2500e-05\n",
            "Epoch 17/30\n",
            "108/108 [==============================] - 7s 66ms/step - loss: 1.1038e-08 - accuracy: 1.0000 - precision_5: 1.0000 - recall_5: 1.0000 - sensitivity: 1.0000 - specificity: 1.0000 - val_loss: 0.0021 - val_accuracy: 1.0000 - val_precision_5: 1.0000 - val_recall_5: 1.0000 - val_sensitivity: 1.0000 - val_specificity: 1.0000 - lr: 1.2500e-05\n",
            "Epoch 18/30\n",
            "108/108 [==============================] - ETA: 0s - loss: 1.0626e-05 - accuracy: 1.0000 - precision_5: 1.0000 - recall_5: 1.0000 - sensitivity: 1.0000 - specificity: 1.0000\n",
            "Epoch 18: ReduceLROnPlateau reducing learning rate to 6.24999984211172e-06.\n",
            "108/108 [==============================] - 7s 66ms/step - loss: 1.0626e-05 - accuracy: 1.0000 - precision_5: 1.0000 - recall_5: 1.0000 - sensitivity: 1.0000 - specificity: 1.0000 - val_loss: 0.0016 - val_accuracy: 1.0000 - val_precision_5: 1.0000 - val_recall_5: 1.0000 - val_sensitivity: 1.0000 - val_specificity: 1.0000 - lr: 1.2500e-05\n",
            "Epoch 19/30\n",
            "108/108 [==============================] - 7s 67ms/step - loss: 0.0000e+00 - accuracy: 1.0000 - precision_5: 1.0000 - recall_5: 1.0000 - sensitivity: 1.0000 - specificity: 1.0000 - val_loss: 0.0011 - val_accuracy: 1.0000 - val_precision_5: 1.0000 - val_recall_5: 1.0000 - val_sensitivity: 1.0000 - val_specificity: 1.0000 - lr: 6.2500e-06\n",
            "Epoch 20/30\n",
            "108/108 [==============================] - 7s 64ms/step - loss: 1.9933e-04 - accuracy: 1.0000 - precision_5: 1.0000 - recall_5: 1.0000 - sensitivity: 1.0000 - specificity: 1.0000 - val_loss: 5.9257e-04 - val_accuracy: 1.0000 - val_precision_5: 1.0000 - val_recall_5: 1.0000 - val_sensitivity: 1.0000 - val_specificity: 1.0000 - lr: 6.2500e-06\n",
            "Epoch 21/30\n",
            "108/108 [==============================] - ETA: 0s - loss: 2.4769e-05 - accuracy: 1.0000 - precision_5: 1.0000 - recall_5: 1.0000 - sensitivity: 1.0000 - specificity: 1.0000\n",
            "Epoch 21: ReduceLROnPlateau reducing learning rate to 3.12499992105586e-06.\n",
            "108/108 [==============================] - 7s 65ms/step - loss: 2.4769e-05 - accuracy: 1.0000 - precision_5: 1.0000 - recall_5: 1.0000 - sensitivity: 1.0000 - specificity: 1.0000 - val_loss: 7.2181e-04 - val_accuracy: 1.0000 - val_precision_5: 1.0000 - val_recall_5: 1.0000 - val_sensitivity: 1.0000 - val_specificity: 1.0000 - lr: 6.2500e-06\n",
            "Epoch 22/30\n",
            "108/108 [==============================] - 7s 65ms/step - loss: 0.0000e+00 - accuracy: 1.0000 - precision_5: 1.0000 - recall_5: 1.0000 - sensitivity: 1.0000 - specificity: 1.0000 - val_loss: 8.7068e-04 - val_accuracy: 1.0000 - val_precision_5: 1.0000 - val_recall_5: 1.0000 - val_sensitivity: 1.0000 - val_specificity: 1.0000 - lr: 3.1250e-06\n",
            "Epoch 23/30\n",
            "108/108 [==============================] - 7s 65ms/step - loss: 0.0000e+00 - accuracy: 1.0000 - precision_5: 1.0000 - recall_5: 1.0000 - sensitivity: 1.0000 - specificity: 1.0000 - val_loss: 7.8610e-04 - val_accuracy: 1.0000 - val_precision_5: 1.0000 - val_recall_5: 1.0000 - val_sensitivity: 1.0000 - val_specificity: 1.0000 - lr: 3.1250e-06\n",
            "Epoch 24/30\n",
            "108/108 [==============================] - ETA: 0s - loss: 0.0000e+00 - accuracy: 1.0000 - precision_5: 1.0000 - recall_5: 1.0000 - sensitivity: 1.0000 - specificity: 1.0000\n",
            "Epoch 24: ReduceLROnPlateau reducing learning rate to 1.56249996052793e-06.\n",
            "108/108 [==============================] - 7s 65ms/step - loss: 0.0000e+00 - accuracy: 1.0000 - precision_5: 1.0000 - recall_5: 1.0000 - sensitivity: 1.0000 - specificity: 1.0000 - val_loss: 8.1318e-04 - val_accuracy: 1.0000 - val_precision_5: 1.0000 - val_recall_5: 1.0000 - val_sensitivity: 1.0000 - val_specificity: 1.0000 - lr: 3.1250e-06\n",
            "Epoch 25/30\n",
            "108/108 [==============================] - 7s 66ms/step - loss: 0.0000e+00 - accuracy: 1.0000 - precision_5: 1.0000 - recall_5: 1.0000 - sensitivity: 1.0000 - specificity: 1.0000 - val_loss: 0.0011 - val_accuracy: 1.0000 - val_precision_5: 1.0000 - val_recall_5: 1.0000 - val_sensitivity: 1.0000 - val_specificity: 1.0000 - lr: 1.5625e-06\n",
            "Epoch 26/30\n",
            "108/108 [==============================] - 7s 66ms/step - loss: 0.0000e+00 - accuracy: 1.0000 - precision_5: 1.0000 - recall_5: 1.0000 - sensitivity: 1.0000 - specificity: 1.0000 - val_loss: 9.4444e-04 - val_accuracy: 1.0000 - val_precision_5: 1.0000 - val_recall_5: 1.0000 - val_sensitivity: 1.0000 - val_specificity: 1.0000 - lr: 1.5625e-06\n",
            "Epoch 27/30\n",
            "108/108 [==============================] - ETA: 0s - loss: 0.0000e+00 - accuracy: 1.0000 - precision_5: 1.0000 - recall_5: 1.0000 - sensitivity: 1.0000 - specificity: 1.0000\n",
            "Epoch 27: ReduceLROnPlateau reducing learning rate to 1e-06.\n",
            "108/108 [==============================] - 7s 66ms/step - loss: 0.0000e+00 - accuracy: 1.0000 - precision_5: 1.0000 - recall_5: 1.0000 - sensitivity: 1.0000 - specificity: 1.0000 - val_loss: 0.0013 - val_accuracy: 1.0000 - val_precision_5: 1.0000 - val_recall_5: 1.0000 - val_sensitivity: 1.0000 - val_specificity: 1.0000 - lr: 1.5625e-06\n",
            "Epoch 28/30\n",
            "108/108 [==============================] - 7s 66ms/step - loss: 0.0011 - accuracy: 1.0000 - precision_5: 1.0000 - recall_5: 1.0000 - sensitivity: 1.0000 - specificity: 1.0000 - val_loss: 6.0573e-04 - val_accuracy: 1.0000 - val_precision_5: 1.0000 - val_recall_5: 1.0000 - val_sensitivity: 1.0000 - val_specificity: 1.0000 - lr: 1.0000e-06\n",
            "Epoch 29/30\n",
            "108/108 [==============================] - 7s 66ms/step - loss: 0.0000e+00 - accuracy: 1.0000 - precision_5: 1.0000 - recall_5: 1.0000 - sensitivity: 1.0000 - specificity: 1.0000 - val_loss: 4.7590e-04 - val_accuracy: 1.0000 - val_precision_5: 1.0000 - val_recall_5: 1.0000 - val_sensitivity: 1.0000 - val_specificity: 1.0000 - lr: 1.0000e-06\n",
            "Epoch 30/30\n",
            "108/108 [==============================] - 7s 65ms/step - loss: 0.0000e+00 - accuracy: 1.0000 - precision_5: 1.0000 - recall_5: 1.0000 - sensitivity: 1.0000 - specificity: 1.0000 - val_loss: 4.2098e-04 - val_accuracy: 1.0000 - val_precision_5: 1.0000 - val_recall_5: 1.0000 - val_sensitivity: 1.0000 - val_specificity: 1.0000 - lr: 1.0000e-06\n",
            "WARNING:tensorflow:5 out of the last 5 calls to <function Model.make_predict_function.<locals>.predict_function at 0x7fd83e306e60> triggered tf.function retracing. Tracing is expensive and the excessive number of tracings could be due to (1) creating @tf.function repeatedly in a loop, (2) passing tensors with different shapes, (3) passing Python objects instead of tensors. For (1), please define your @tf.function outside of the loop. For (2), @tf.function has experimental_relax_shapes=True option that relaxes argument shapes that can avoid unnecessary retracing. For (3), please refer to https://www.tensorflow.org/guide/function#controlling_retracing and https://www.tensorflow.org/api_docs/python/tf/function for  more details.\n"
          ]
        },
        {
          "output_type": "stream",
          "name": "stderr",
          "text": [
            "WARNING:tensorflow:5 out of the last 5 calls to <function Model.make_predict_function.<locals>.predict_function at 0x7fd83e306e60> triggered tf.function retracing. Tracing is expensive and the excessive number of tracings could be due to (1) creating @tf.function repeatedly in a loop, (2) passing tensors with different shapes, (3) passing Python objects instead of tensors. For (1), please define your @tf.function outside of the loop. For (2), @tf.function has experimental_relax_shapes=True option that relaxes argument shapes that can avoid unnecessary retracing. For (3), please refer to https://www.tensorflow.org/guide/function#controlling_retracing and https://www.tensorflow.org/api_docs/python/tf/function for  more details.\n"
          ]
        },
        {
          "output_type": "stream",
          "name": "stdout",
          "text": [
            "prediction:  [[0.0000000e+00 0.0000000e+00 1.0000000e+00]\n",
            " [0.0000000e+00 1.0000000e+00 0.0000000e+00]\n",
            " [0.0000000e+00 0.0000000e+00 1.0000000e+00]\n",
            " [1.0000000e+00 0.0000000e+00 0.0000000e+00]\n",
            " [1.0000000e+00 0.0000000e+00 0.0000000e+00]\n",
            " [0.0000000e+00 1.0000000e+00 0.0000000e+00]\n",
            " [1.0000000e+00 0.0000000e+00 0.0000000e+00]\n",
            " [0.0000000e+00 0.0000000e+00 1.0000000e+00]\n",
            " [0.0000000e+00 0.0000000e+00 1.0000000e+00]\n",
            " [0.0000000e+00 0.0000000e+00 1.0000000e+00]\n",
            " [1.0000000e+00 0.0000000e+00 0.0000000e+00]\n",
            " [1.0000000e+00 0.0000000e+00 0.0000000e+00]\n",
            " [1.0000000e+00 0.0000000e+00 0.0000000e+00]\n",
            " [0.0000000e+00 0.0000000e+00 1.0000000e+00]\n",
            " [0.0000000e+00 0.0000000e+00 1.0000000e+00]\n",
            " [1.0000000e+00 1.4606129e-31 3.7331402e-29]\n",
            " [0.0000000e+00 1.0000000e+00 0.0000000e+00]\n",
            " [1.0000000e+00 0.0000000e+00 0.0000000e+00]\n",
            " [0.0000000e+00 1.0000000e+00 0.0000000e+00]\n",
            " [1.6837814e-05 9.8869842e-01 1.1284686e-02]\n",
            " [0.0000000e+00 1.0000000e+00 0.0000000e+00]\n",
            " [1.0000000e+00 0.0000000e+00 0.0000000e+00]\n",
            " [1.0000000e+00 0.0000000e+00 0.0000000e+00]\n",
            " [1.0000000e+00 0.0000000e+00 0.0000000e+00]\n",
            " [1.0000000e+00 0.0000000e+00 0.0000000e+00]\n",
            " [0.0000000e+00 0.0000000e+00 1.0000000e+00]\n",
            " [0.0000000e+00 1.0000000e+00 0.0000000e+00]]\n"
          ]
        }
      ],
      "source": [
        "def main():\n",
        "  # read data and create labels\n",
        "  X, y = create_input_labels(hist_equalization=False, bilat_filter=False)\n",
        "\n",
        "  # split train and test sets\n",
        "  X_train, X_val, y_train, y_val = train_test_split(X, y, test_size = 0.2, random_state=42)\n",
        "  prediction = []\n",
        "  model = create_model()\n",
        "  model.summary()\n",
        "  all_prediction = train_model(model, \"CNN_bilat_equal_hist_sharp\", X_train, X_val, y_train, y_val)\n",
        "\n",
        "\n",
        "  print(\"prediction: \", all_prediction)\n",
        "  return all_prediction\n",
        "if __name__ == \"__main__\": \n",
        "  y_pred = main()\n",
        "  "
      ]
    },
    {
      "cell_type": "code",
      "execution_count": null,
      "metadata": {
        "colab": {
          "base_uri": "https://localhost:8080/"
        },
        "id": "rwapqg006z1E",
        "outputId": "7827abb1-061c-4d20-e2ba-da21676071ad"
      },
      "outputs": [
        {
          "output_type": "execute_result",
          "data": {
            "text/plain": [
              "array([[0.0000000e+00, 0.0000000e+00, 1.0000000e+00],\n",
              "       [0.0000000e+00, 1.0000000e+00, 0.0000000e+00],\n",
              "       [0.0000000e+00, 0.0000000e+00, 1.0000000e+00],\n",
              "       [1.0000000e+00, 0.0000000e+00, 0.0000000e+00],\n",
              "       [1.0000000e+00, 0.0000000e+00, 0.0000000e+00],\n",
              "       [0.0000000e+00, 1.0000000e+00, 0.0000000e+00],\n",
              "       [1.0000000e+00, 0.0000000e+00, 0.0000000e+00],\n",
              "       [0.0000000e+00, 0.0000000e+00, 1.0000000e+00],\n",
              "       [0.0000000e+00, 0.0000000e+00, 1.0000000e+00],\n",
              "       [0.0000000e+00, 0.0000000e+00, 1.0000000e+00],\n",
              "       [1.0000000e+00, 0.0000000e+00, 0.0000000e+00],\n",
              "       [1.0000000e+00, 0.0000000e+00, 0.0000000e+00],\n",
              "       [1.0000000e+00, 0.0000000e+00, 0.0000000e+00],\n",
              "       [0.0000000e+00, 0.0000000e+00, 1.0000000e+00],\n",
              "       [0.0000000e+00, 0.0000000e+00, 1.0000000e+00],\n",
              "       [1.0000000e+00, 1.4606129e-31, 3.7331402e-29],\n",
              "       [0.0000000e+00, 1.0000000e+00, 0.0000000e+00],\n",
              "       [1.0000000e+00, 0.0000000e+00, 0.0000000e+00],\n",
              "       [0.0000000e+00, 1.0000000e+00, 0.0000000e+00],\n",
              "       [1.6837814e-05, 9.8869842e-01, 1.1284686e-02],\n",
              "       [0.0000000e+00, 1.0000000e+00, 0.0000000e+00],\n",
              "       [1.0000000e+00, 0.0000000e+00, 0.0000000e+00],\n",
              "       [1.0000000e+00, 0.0000000e+00, 0.0000000e+00],\n",
              "       [1.0000000e+00, 0.0000000e+00, 0.0000000e+00],\n",
              "       [1.0000000e+00, 0.0000000e+00, 0.0000000e+00],\n",
              "       [0.0000000e+00, 0.0000000e+00, 1.0000000e+00],\n",
              "       [0.0000000e+00, 1.0000000e+00, 0.0000000e+00]], dtype=float32)"
            ]
          },
          "metadata": {},
          "execution_count": 153
        }
      ],
      "source": [
        "y_pred_arg = np.argmax(y_pred, axis = 1)\n",
        "y_pred"
      ]
    },
    {
      "cell_type": "code",
      "execution_count": null,
      "metadata": {
        "colab": {
          "base_uri": "https://localhost:8080/"
        },
        "id": "6zGX4H0Z4cDy",
        "outputId": "260edcb0-18ca-42e0-90ba-a6275761fa31"
      },
      "outputs": [
        {
          "output_type": "execute_result",
          "data": {
            "text/plain": [
              "array([2, 1, 2, 0, 0, 1, 0, 2, 2, 2, 0, 0, 0, 2, 2, 0, 1, 0, 1, 1, 1, 0,\n",
              "       0, 0, 0, 2, 1])"
            ]
          },
          "metadata": {},
          "execution_count": 154
        }
      ],
      "source": [
        "y_val_arg = np.argmax(y_val, axis = 1)\n",
        "y_val_arg"
      ]
    },
    {
      "cell_type": "code",
      "execution_count": null,
      "metadata": {
        "colab": {
          "base_uri": "https://localhost:8080/",
          "height": 279
        },
        "id": "AJG0tzfCBD5I",
        "outputId": "842e94e2-c6ec-4ead-a522-3f49fe0af532"
      },
      "outputs": [
        {
          "output_type": "display_data",
          "data": {
            "text/plain": [
              "<Figure size 432x288 with 2 Axes>"
            ],
            "image/png": "[encoded data removed]"
          },
          "metadata": {}
        }
      ],
      "source": [
        "import seaborn\n",
        "from sklearn.metrics import confusion_matrix\n",
        "\n",
        "cm = confusion_matrix(y_val_arg, y_pred_arg)\n",
        "seaborn.set(font_scale = 1.4)\n",
        "seaborn.heatmap(cm, annot=True);\n",
        "plt.show()"
      ]
    },
    {
      "cell_type": "code",
      "source": [
        "import pandas as pd\n",
        "from matplotlib import pyplot as plt\n",
        "\n",
        "\n",
        "def plot_metric(file, metrics=['sensitivity', 'precision_5']):\n",
        "    plt.figure(figsize=(25,10))\n",
        "    df = pd.read_csv(file)\n",
        "    plt.subplot(1, 2, 1)\n",
        "\n",
        "    metric = metrics[0]   \n",
        "    plt.plot(df[metric])\n",
        "    plt.plot(df['val_' + metric])\n",
        "    plt.title('model ' + metric)\n",
        "    plt.ylabel(metric)\n",
        "    plt.xlabel('epoch')\n",
        "    plt.legend(['train', 'val'], loc='lower right')\n",
        "\n",
        "    plt.subplot(1, 2, 2)\n",
        "    metric = metrics[1]   \n",
        "    plt.plot(df[metric])\n",
        "    plt.plot(df['val_' + metric])\n",
        "    plt.title('model ' + metric.replace(\"_5\", \" \"))\n",
        "    plt.ylabel(metric)\n",
        "    plt.xlabel('epoch')\n",
        "    plt.legend(['train', 'val'], loc='lower right')\n",
        "\n",
        "    plt.show()\n"
      ],
      "metadata": {
        "id": "NYxhddwC-hHy"
      },
      "execution_count": null,
      "outputs": []
    },
    {
      "cell_type": "code",
      "source": [
        "plot_metric('/content/output/CNN_bilat_equal_hist_sharp_log.csv')"
      ],
      "metadata": {
        "colab": {
          "base_uri": "https://localhost:8080/",
          "height": 641
        },
        "id": "eeSsAyIu-kwy",
        "outputId": "0252b924-0f61-4a46-e695-63d9ab70f13b"
      },
      "execution_count": null,
      "outputs": [
        {
          "output_type": "display_data",
          "data": {
            "text/plain": [
              "<Figure size 1800x720 with 2 Axes>"
            ],
            "image/png": "[encoded data removed]"
          },
          "metadata": {}
        }
      ]
    }
  ],
  "metadata": {
    "accelerator": "GPU",
    "colab": {
      "collapsed_sections": [],
      "name": "Face recogonition.ipynb",
      "provenance": [],
      "include_colab_link": true
    },
    "gpuClass": "standard",
    "kernelspec": {
      "display_name": "Python 3",
      "name": "python3"
    },
    "language_info": {
      "name": "python"
    }
  },
  "nbformat": 4,
  "nbformat_minor": 0
}